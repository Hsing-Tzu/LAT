{
 "cells": [
  {
   "cell_type": "code",
   "execution_count": 1,
   "id": "6476e246",
   "metadata": {},
   "outputs": [],
   "source": [
    "import openai\n",
    "import pandas as pd"
   ]
  },
  {
   "cell_type": "code",
   "execution_count": 3,
   "id": "c4335991",
   "metadata": {},
   "outputs": [],
   "source": [
    "with open('01.txt', encoding= 'utf-8') as fh:\n",
    "    tmp1 = fh.read()\n",
    "    itemlist1 = tmp1.split(',')\n",
    "with open('02.txt', encoding= 'utf-8') as fh:\n",
    "    tmp2 = fh.read()\n",
    "    itemlist2 = tmp2.split(',')\n",
    "with open('03.txt', encoding= 'utf-8') as fh:\n",
    "    tmp3 = fh.read()\n",
    "    itemlist3 = tmp3.split(',')\n",
    "with open('04.txt', encoding= 'utf-8') as fh:\n",
    "    tmp4 = fh.read()\n",
    "    itemlist4 = tmp4.split(',')\n",
    "with open('05.txt', encoding= 'utf-8') as fh:\n",
    "    tmp5 = fh.read()\n",
    "    itemlist5 = tmp5.split(',')"
   ]
  },
  {
   "cell_type": "code",
   "execution_count": 4,
   "id": "0cac7e7b",
   "metadata": {},
   "outputs": [],
   "source": [
    "itemlist1 = str(itemlist1)\n",
    "itemlist2 = str(itemlist2)\n",
    "itemlist3 = str(itemlist3)\n",
    "itemlist4 = str(itemlist4)\n",
    "itemlist5 = str(itemlist5)"
   ]
  },
  {
   "cell_type": "code",
   "execution_count": 5,
   "id": "74344f3d",
   "metadata": {},
   "outputs": [],
   "source": [
    "keyfile = open(\"ket.txt\", \"r\")\n",
    "key = keyfile.readline()\n",
    "openai.api_key = key"
   ]
  },
  {
   "cell_type": "code",
   "execution_count": 6,
   "id": "e0799640",
   "metadata": {},
   "outputs": [],
   "source": [
    "data1 = [itemlist1[0:3200], itemlist1[3201:6400], itemlist1[6401:9600], itemlist1[9601:12800], itemlist1[12801:16000]]\n",
    "data2 = [itemlist2[0:3200], itemlist2[3201:6400], itemlist2[6401:9600], itemlist2[9601:12800], itemlist2[12801:16000]]\n",
    "data3 = [itemlist3[0:3200], itemlist3[3201:6400], itemlist3[6401:9600], itemlist3[9601:12800], itemlist3[12801:16000]]\n",
    "data4 = [itemlist4[0:3200], itemlist4[3201:6400], itemlist4[6401:9600], itemlist4[9601:12800], itemlist4[12801:16000]]\n",
    "data5 = [itemlist4[0:3200], itemlist4[3201:6400], itemlist4[6401:9600], itemlist4[9601:12800], itemlist4[12801:16000]]"
   ]
  },
  {
   "cell_type": "code",
   "execution_count": 8,
   "id": "b9eea868",
   "metadata": {},
   "outputs": [
    {
     "data": {
      "text/plain": [
       "\"['1.1. Introduction\\\\nThe knowledge-based economy', ' new technologies', ' the growing speed of technological changes and globalization\\\\nall influence the needs to improve the population’s skills and competences. In Europe', ' this has been acknowledged\\\\nfor several years (Colardyn', ' D. & Bjornavold', ' J.', ' 2004).\\\\nLifelong learning (LLL) covers the whole range of learning that includes: formal', ' informal and non-formal\\\\nlearning. It also includes the skills', ' knowledge', ' attitudes and behaviours that people acquire in their day-to-day\\\\nexperiences (Dunn', ' E.', ' 2003).\\\\nLLL is the continuous building of skills and knowledge throughout the life of an individual. It not only enhances\\\\nsocial inclusion', ' active citizenship and personal development', ' but also competitiveness and employability\\\\n(Wikipedia', ' LLL', ' 2011). The term lifelong', ' as applied to education or learning', ' has been in circulation for more than\\\\na quarter of a century (Friesen', ' N. & Anderson', ' T.', ' 2004). LLL', ' it is asserted', ' requires that learning outcomes from\\\\ndifferent settings and contexts can be linked together.\\\\nThe Cedefop glossary (Tissot', ' P.', ' 2004) defines core concepts of various forms of learning as follows:\\\\n\\\\uf0b7 Formal learning consists of learning that occurs within an organized and structured context (formal\\\\neducation', ' in-company training)', ' and that is designed as learning. It may lead to formal recognition\\\\n(diploma', ' certificate)', ' (p. 70);\\\\n\\\\uf0b7 Non-formal learning consists of learning embedded in planned activities that are not explicitly designated\\\\nas learning', ' but which contain an important learning element such as vocational skills acquired at the\\\\nworkplace', ' (p. 112);\\\\n\\\\uf0b7 Informal learning is defined as learning resulting from daily life activities related to family', ' work or leisure.\\\\nIt is often referred to as experiential learning and can', ' to a degree', ' be understood as accidental learning\\\\n(p. 76).\\\\nNowadays', ' there is a draw more than ever to LLL to stay young', ' stay sharp mentality. It is important to note that\\\\nLLL can take on many different forms and does not have to be what we think of when we think of the traditional\\\\nlearning classroom environment. One thing can not be disputed though; LLL is something we should all be\\\\nparticipating in', ' having an obligation to ourselves to continue learning throughout the whole of our lives\\\\n(Eggelmeyer', ' S.', ' 2010).\\\\nLLL helps people to achieve other goals', ' such as taking an active part in civic life', ' leading a more sustainable\\\\nlifestyle', ' and improving their health and wellbeing. It also benefits society', ' by reducing crime and encouraging\\\\ncommunity activities (Dunn', ' E.', ' 2003).\\\\nGlobalization and the growth of the fast-changing knowledge economy mean that people require upgrading their\\\\nskills throughout their adult lives to cope with modern life', ' both in their work and in their private lives. Nowadays', '\\\\nthere is an increasingly important basic skill in ever-changing technological universe: ability to learn and adapt to\\\\nthe needed new skills and training (OECD', ' 2007). This paper seeks to descr\""
      ]
     },
     "execution_count": 8,
     "metadata": {},
     "output_type": "execute_result"
    }
   ],
   "source": [
    "data1[0]"
   ]
  },
  {
   "cell_type": "code",
   "execution_count": 9,
   "id": "f5168813",
   "metadata": {},
   "outputs": [],
   "source": [
    "def chatgptfn(sub_list):\n",
    "    result = ''\n",
    "    response = openai.ChatCompletion.create(\n",
    "        model=\"gpt-3.5-turbo\",\n",
    "        messages=[\n",
    "            {\"role\": \"system\", \"content\": \"You are an assistant\"},\n",
    "            {\"role\": \"user\", \"content\": f\"{sub_list} :give me a summary\"}\n",
    "        ]\n",
    "    )\n",
    "    for choice in response.choices:\n",
    "        result += choice.message.content\n",
    "    return result"
   ]
  },
  {
   "cell_type": "code",
   "execution_count": 10,
   "id": "529abd80",
   "metadata": {},
   "outputs": [],
   "source": [
    "for i in range(0,5):\n",
    "    data1[i] = chatgptfn(data1[i])"
   ]
  },
  {
   "cell_type": "code",
   "execution_count": 13,
   "id": "df021fef",
   "metadata": {},
   "outputs": [],
   "source": [
    "for i in range(0,5):\n",
    "     data2[i] = chatgptfn(data2[i])"
   ]
  },
  {
   "cell_type": "code",
   "execution_count": 16,
   "id": "5dafd587",
   "metadata": {},
   "outputs": [],
   "source": [
    "for i in range(0,5):\n",
    "    data3[i] = chatgptfn(data3[i])"
   ]
  },
  {
   "cell_type": "code",
   "execution_count": 17,
   "id": "cebf8162",
   "metadata": {},
   "outputs": [],
   "source": [
    "for i in range(0,5):\n",
    "    data4[i] = chatgptfn(data4[i])"
   ]
  },
  {
   "cell_type": "code",
   "execution_count": 18,
   "id": "9ba5367c",
   "metadata": {},
   "outputs": [],
   "source": [
    "for i in range(0,5):\n",
    "    data5[i] = chatgptfn(data5[i])"
   ]
  },
  {
   "cell_type": "code",
   "execution_count": 19,
   "id": "8e02d5da",
   "metadata": {},
   "outputs": [],
   "source": [
    "datan1 = ''\n",
    "datan2 = ''\n",
    "datan3 = ''\n",
    "datan4 = ''\n",
    "datan5 = ''\n",
    "for i in range(0,5):\n",
    "    datan1 = datan1 + data1[i]\n",
    "    datan2 = datan2 + data2[i]\n",
    "    datan3 = datan3 + data3[i]\n",
    "    datan4 = datan4 + data4[i]\n",
    "    datan5 = datan5 + data5[i]"
   ]
  },
  {
   "cell_type": "code",
   "execution_count": 20,
   "id": "46884ab0",
   "metadata": {},
   "outputs": [
    {
     "data": {
      "text/plain": [
       "\"The paper discusses the importance of lifelong learning (LLL) in today's knowledge-based economy, where new technologies and globalization require individuals to continuously improve their skills and competencies. LLL includes formal, non-formal, and informal learning, and helps individuals achieve personal development, social inclusion, active citizenship, competitiveness, and employability. LLL also benefits society by reducing crime and encouraging community activities. The paper emphasizes the need for individuals to participate in LLL and upgrade their skills throughout their adult lives to cope with modern life, and adapt to the ever-changing technological universe.This review article explains the importance of Lifelong Learning (LLL) in acquiring knowledge and skills throughout one's life. The article emphasizes the advantages of LLL in personal, social, and economic development. It also describes the benefits of LLL in providing individuals with the necessary knowledge, skills, and abilities to be productive members of society, cope with workplace changes, and contribute to economic growth. The article concludes by noting that LLL sharpens the mind and is a continuous process of personal development.The article discusses the benefits of Lifelong Learning (LLL). It points out that learning in general has beneficial effects on the brain, and that people with more education are less likely to have dementia in old age. LLL also sharpens confidence, interpersonal skills, career opportunities, and ability to communicate. The article suggests that we need to focus on our natural desire to learn and nurture it in order to reap its many benefits. The learning society is the vision of a society where there are recognized opportunities for learning for every person wherever they are and however old they should be. LLL enables people to take an active part in society and keep up with the changing technological economy. The article enumerates five great benefits of LLL, such as a fatter paycheck, enhanced self-esteem, and freedom for adult learners. Overall, LLL is an important aspect of personal and professional growth.The article discusses the importance of lifelong learning (LLL) and how it is becoming more accessible through various means such as online methods and adult education theories. It lists the benefits of LLL including personal fulfillment, social connections, societal contributions, adaptation to change, and finding meaning in life. The article emphasizes that learning is not just for academic purposes but also for personal growth, and that anyone who truly wants to continue learning can do so without limitations of time or space.The article discusses the concept of Lifelong Learning (LLL) and its benefits. LLL helps individuals adapt to change, increases wisdom and opens the mind, creates a curious and hungry mind, and helps develop natural abilities. It also highlights the increasing necessity of continuous learning in our rapidly changing and global society. Ultimately, LLL can lead to a more fulfilling and enriched life while also helping individuals stay current and thrive in their careers.\""
      ]
     },
     "execution_count": 20,
     "metadata": {},
     "output_type": "execute_result"
    }
   ],
   "source": [
    "datan1"
   ]
  },
  {
   "cell_type": "code",
   "execution_count": 21,
   "id": "f8562f52",
   "metadata": {},
   "outputs": [],
   "source": [
    "article = [datan1, datan2, datan3, datan4, datan5]"
   ]
  },
  {
   "cell_type": "code",
   "execution_count": 22,
   "id": "7c54504e",
   "metadata": {},
   "outputs": [
    {
     "data": {
      "text/plain": [
       "[\"The paper discusses the importance of lifelong learning (LLL) in today's knowledge-based economy, where new technologies and globalization require individuals to continuously improve their skills and competencies. LLL includes formal, non-formal, and informal learning, and helps individuals achieve personal development, social inclusion, active citizenship, competitiveness, and employability. LLL also benefits society by reducing crime and encouraging community activities. The paper emphasizes the need for individuals to participate in LLL and upgrade their skills throughout their adult lives to cope with modern life, and adapt to the ever-changing technological universe.This review article explains the importance of Lifelong Learning (LLL) in acquiring knowledge and skills throughout one's life. The article emphasizes the advantages of LLL in personal, social, and economic development. It also describes the benefits of LLL in providing individuals with the necessary knowledge, skills, and abilities to be productive members of society, cope with workplace changes, and contribute to economic growth. The article concludes by noting that LLL sharpens the mind and is a continuous process of personal development.The article discusses the benefits of Lifelong Learning (LLL). It points out that learning in general has beneficial effects on the brain, and that people with more education are less likely to have dementia in old age. LLL also sharpens confidence, interpersonal skills, career opportunities, and ability to communicate. The article suggests that we need to focus on our natural desire to learn and nurture it in order to reap its many benefits. The learning society is the vision of a society where there are recognized opportunities for learning for every person wherever they are and however old they should be. LLL enables people to take an active part in society and keep up with the changing technological economy. The article enumerates five great benefits of LLL, such as a fatter paycheck, enhanced self-esteem, and freedom for adult learners. Overall, LLL is an important aspect of personal and professional growth.The article discusses the importance of lifelong learning (LLL) and how it is becoming more accessible through various means such as online methods and adult education theories. It lists the benefits of LLL including personal fulfillment, social connections, societal contributions, adaptation to change, and finding meaning in life. The article emphasizes that learning is not just for academic purposes but also for personal growth, and that anyone who truly wants to continue learning can do so without limitations of time or space.The article discusses the concept of Lifelong Learning (LLL) and its benefits. LLL helps individuals adapt to change, increases wisdom and opens the mind, creates a curious and hungry mind, and helps develop natural abilities. It also highlights the increasing necessity of continuous learning in our rapidly changing and global society. Ultimately, LLL can lead to a more fulfilling and enriched life while also helping individuals stay current and thrive in their careers.\",\n",
       " \"The article emphasizes the importance of continued professional development for healthcare professionals, particularly nurses. It explores different ways to promote CPD and discusses research on the perceptions and experiences of nurses towards CPD. The article aims to provide insights on how to enhance CPD interventions to benefit healthcare professionals and healthcare settings.The article highlights the importance of continuous professional development (CPD) for nurses in maintaining competency and providing quality patient care. CPD can be acquired through formal and informal learning, self-reflection, and best evidence appraisal. The article also mentions potential obstacles to informal workplace learning, such as lack of CPD trained nurses and poor staffing levels. The UK's national CPD requirements for nurses are also discussed. Overall, CPD can improve nursing practice beyond initial training and qualification.The article highlights the significance of continuing professional development (CPD) for nurses in the UK, and the various statutory requirements and initiatives introduced for their support. Although funding cuts have impacted the nurse CPD initiatives and made it difficult for them to fulfil their revalidation requirements, the article proposes a metasynthesis to examine the value, conditions, and challenges faced by nurses during CPD.The article describes a systematic review process called metasynthesis, which aims to develop theory, explore and understand phenomena, and generate new knowledge from related qualitative reports. The process involves defining research questions, conducting a systematic search, assessing study quality, extracting data, analyzing it, and expressing the synthesis in the findings section. The search was conducted on various databases, limited to English articles published between 2010 and 2019. In total, 1395 articles were screened based on inclusion criteria, which were focused on nurse continuing education, professional development, lifelong learning, CPD, motivation, and barriers.The study used qualitative methods to explore nurses' CPD and continuing education. 72 articles were screened, and 25 were selected for the final metasynthesis. The authors assessed the quality of the studies according to specific criteria. The findings were analyzed using constant comparative analysis, resulting in five overarching themes. These themes included the impact of organizational culture on CPD, the importance of a supportive environment, and the role of attitudes and motivation in CPD. The authors revised the themes until a coherent whole was formed.\",\n",
       " \"The article discusses the complexity of defining and understanding lifelong learning (LLL). Each Member State has its own definition and different concepts are used to capture the same activities. The challenge at the European level is to adopt definitions that are wide enough to embrace national and regional specifics but focused enough to make exchange of experiences possible. The learning society is the vision of a society where there are recognized opportunities for learning for every person wherever they are and however old they should be. The article attempts to offer an applicable concept of the term LLL.Lifelong Learning (LLL) is a concept that involves various forms of learning, including formal, informal, and non-formal learning. Formal learning occurs within an organized and structured context and may lead to formal recognition, while non-formal learning is embedded in planned activities that are not explicitly designated as learning. Informal learning results from daily life activities related to family, work, or leisure, often referred to as experiential learning. LLL is about providing second chances to update basic skills and offering learning opportunities at more advanced levels, aiming towards a learning society where opportunities for learning are recognized for every person throughout their lifetime. LLL is the continuous building of skills and knowledge through experiences faced in a lifetime.LLL stands for lifelong learning, which is a process of constant learning and development that includes continuous professional development. It involves education that is flexible, diverse, and available at different times and places, pursued throughout life. LLL takes place at all times and in all places, from childhood to old age. It includes learning that occurs in schools and formal educational programs, as well as informal and non-formal learning through experiences and problem-solving. The aim is to enhance the quality of life and employment prospects by continuously developing skills and knowledge. However, there is no clear and uniform descriptive definition of LLL.Lifelong Learning (LLL) is a process of continuous and conscious learning that goes throughout life and is directed towards providing both individual needs and the relevant community. It involves all strategies that are put in place to create opportunities for people to learn. LLL requires a change in mindset, where learners are no longer passive receivers of knowledge but active researchers, constructors, and communicators of knowledge. Educational institutions must offer facilities that meet the needs of learners at various levels of competence throughout their lives. Lifelong learners are not merely consumers of learning facilities, but can also actively contribute to the facilities themselves. The implementation of this idea will be facilitated by bringing together education and vocational education in central aspects of different policies such as education, youth, employment, and research. The Commission of the European Communities (2000) states in its memorandum on LLL that it must become the guiding principle for provision and participation across the education and training sector.The article discusses the importance of Lifelong Learning (LLL) which involves the integration of formal, non-formal, and informal learning to continuously improve the quality of life. LLL is necessary for individuals to upgrade their skills throughout their adult lives and cope with modern life in their work and personal lives. LLL development requires everyone's patterns of behavior to change, including individuals, employers, and providers of learning and qualifications. Implementing LLL requires collaborative efforts and will result in responsible individuals who understand and actively involve themselves in their communities and societies.\",\n",
       " \"The article discusses the importance of education in modern society and the need for lifelong learning in order to adapt to changes and sustain personal and occupational development. The study aims to evaluate the lifelong learning approach from different perspectives based on academic literature. The research is a qualitative study that used a documentation screening model, and descriptive content analysis was used to analyse the data obtained from scientific studies retrieved from different databases and sources. The article provides results obtained through the sub-objectives of the research, including discussions on the concept of lifelong learning and its historical origins.Lifelong learning is the process of acquiring knowledge, skills and competencies throughout all life stages, from birth to death. It emerged in discussions about the educational needs of individuals in the armed forces and industry around 1919, but gained greater prominence in the 1970s. There is no consensus on its historical development, but it is considered a necessary approach in a rapidly changing world. Lifelong learning includes formal, informal and nonformal learning, and is essential for personal and occupational growth. It is a recognition of oneself and the world, and entails creating new things, habits and behavioural mannerisms. It is a complement to theoretical and individual learning, and is necessary for the development of individuals and society as a whole.The concept of lifelong learning refers to the idea of providing learning opportunities to individuals throughout their lives, regardless of their age, socio-economic status, location, or education. It involves both formal and informal learning processes and supports the development of skills and talents of individuals. The general characteristics of lifelong learning include being a guide for educational and instructional resources, learning through doing and experiencing, supporting learning in groups, providing guidance for evaluation and learning strategies, contributing to the development of educational and individualized learning plans, viewing learning as a continually ongoing process, and providing access to opportunities for learning facilities throughout one's life. Lifelong learning skills include self-management competencies, professional competencies, technological competencies, social competencies, communication competencies, and problem-solving competencies.The article discusses the importance of lifelong learning skills for individuals in achieving occupational development. The skills are categorized under eight headings, including communication competency in native and foreign languages, basic competencies in mathematics, science and technology, digital competencies, learning to learn competencies, social and citizenship competencies, taking initiative and entrepreneurship competencies, and cultural awareness and expression competencies. The article also emphasizes the ability of individuals to plan, evaluate and be active in their own learning process, and to be open to learning in both formal and informal environments.The concept of lifelong learning is increasingly important in today's society, and there is a consensus that it involves communication skills, technology proficiency, openness to learning, social skills, cultural awareness, and an entrepreneurial mindset. The European Union has implemented six lifelong learning programs: Comenius, which focuses on European culture and values in pre-school, primary, and secondary education; Erasmus, which fosters collaboration between higher education institutions in Europe and improves employment opportunities for graduates; Leonardo Da Vinci, which improves occupational education policies in EU member countries; Grundtvig, which provides opportunities for adults to develop knowledge and qualifications throughout their lives; a Programme with Common Subject, which provides support for various lifelong learning initiatives; and the Jean Monnet Programme, which promotes European integration and fosters dialogue and understanding between EU and non-EU countries.\",\n",
       " 'This article discusses the importance of lifelong learning and its role in modern society. It aims to evaluate the lifelong learning approach from different perspectives based on academic literature. The study used a qualitative research method with a documentation screening model and descriptive content analysis to analyse data from scientific studies retrieved from different databases and sources. The article provides results obtained through sub-objectives and discusses the concept of lifelong learning, its general characteristics, skills, and characteristics and structure of lifelong learning programmes in the European Union. The article concludes that the lifelong learning approach plays a significant role in human lives and requires detailed examination.The concept of lifelong learning has been around since the early 20th century, but there is no clear consensus on its emergence. Educational systems began integrating the idea in the 1970s, with the belief that education should be a lifelong process and not limited to school age or specific settings. Lifelong learning includes all activities that aim to develop an individual\\'s knowledge, skills, and competencies throughout their life. It is important for both occupational and individual needs due to rapidly changing world conditions and developing technology. Lifelong learning is seen as a recognition of oneself and the world, creating new things, developing learning habits and behavioural mannerisms. It is also believed to have an important role in the development of individuals and society as a whole. Lifelong learning is a complement to theoretical and individual learning and provides equal opportunities to everyone.The concept of lifelong learning is based on providing educational opportunities to individuals throughout their lives. It is an approach that supports personal and occupational needs, interests, and learning requirements. Lifelong learning contributes to the development of skills and talents, and provides equal opportunities to individuals, irrespective of age, socio-economic status, and educational level. It is characterized as a guide for educational and instructional resources, supports learning through \"doing and experiencing,\" and takes a guiding role for evaluation and learning strategies. Lifelong learning skills are based on six competencies, including self-management competencies, learning to learn competencies, communication competencies, digital competencies, citizenship competencies, and entrepreneurship competencies.The article discusses the importance of lifelong learning skills for individuals to adapt and succeed in their occupational career development. The skills are grouped into eight categories, which include communication, basic competencies in mathematics, digital, learning to learn, social and citizenship, taking initiative and entrepreneurship, science and technology, and cultural awareness and expression competencies. Individuals who have lifelong learning skills are able to plan, evaluate and actively seek new learning opportunities both in formal and informal environments.The lifelong learning approach consists of basic skills such as communication skills in both native and foreign languages, effective use of technology, openness to learn, social skills, activity, entrepreneurship, and cultural awareness. Lifelong learning programmes in the European Union aim to transform the Union into an advanced information society with social coherence and a sustainable economic structure. The European Union\\'s approach to lifelong learning consists of six programmes: Comenius, Erasmus, Leonardo da Vinci, Grundtvig, Programme with Common Subject, and Jean Monnet. These programmes target various educational institutions and individuals to develop their knowledge and qualifications throughout their lives.']"
      ]
     },
     "execution_count": 22,
     "metadata": {},
     "output_type": "execute_result"
    }
   ],
   "source": [
    "article"
   ]
  },
  {
   "cell_type": "code",
   "execution_count": 23,
   "id": "54ea9ca3",
   "metadata": {},
   "outputs": [],
   "source": [
    "import gensim\n",
    "from gensim import corpora\n",
    "from pprint import pprint"
   ]
  },
  {
   "cell_type": "code",
   "execution_count": 24,
   "id": "30da2172",
   "metadata": {},
   "outputs": [],
   "source": [
    "# 創建詞袋\n",
    "texts = [[word for word in document.lower().split()] for document in article]\n",
    "dictionary = corpora.Dictionary(texts)\n",
    "corpus = [dictionary.doc2bow(text) for text in texts]"
   ]
  },
  {
   "cell_type": "code",
   "execution_count": 25,
   "id": "c2a47e73",
   "metadata": {},
   "outputs": [],
   "source": [
    "# 訓練 LDA 模型\n",
    "lda_model = gensim.models.ldamodel.LdaModel(corpus=corpus, id2word=dictionary, \n",
    "                                            num_topics=3, random_state=100, update_every=1, \n",
    "                                            chunksize=100, passes=10, alpha='auto', per_word_topics=True)"
   ]
  },
  {
   "cell_type": "code",
   "execution_count": 26,
   "id": "5de93541",
   "metadata": {},
   "outputs": [
    {
     "name": "stderr",
     "output_type": "stream",
     "text": [
      "C:\\Users\\daisy\\anaconda3\\lib\\site-packages\\pyLDAvis\\_prepare.py:243: FutureWarning: In a future version of pandas all arguments of DataFrame.drop except for the argument 'labels' will be keyword-only.\n",
      "  default_term_info = default_term_info.sort_values(\n"
     ]
    },
    {
     "data": {
      "text/html": [
       "\n",
       "<link rel=\"stylesheet\" type=\"text/css\" href=\"https://cdn.jsdelivr.net/gh/bmabey/pyLDAvis@3.4.0/pyLDAvis/js/ldavis.v1.0.0.css\">\n",
       "\n",
       "\n",
       "<div id=\"ldavis_el246801595968297664166807409\" style=\"background-color:white;\"></div>\n",
       "<script type=\"text/javascript\">\n",
       "\n",
       "var ldavis_el246801595968297664166807409_data = {\"mdsDat\": {\"x\": [0.08217355071565173, -1.6925935227000594e-05, -0.0821566247804247], \"y\": [0.034909660215474085, -0.06984090117652833, 0.03493124096105426], \"topics\": [1, 2, 3], \"cluster\": [1, 1, 1], \"Freq\": [62.47903608131684, 37.41026040557272, 0.11070351311043611]}, \"tinfo\": {\"Term\": [\"competencies,\", \"cpd\", \"lifelong\", \"social\", \"the\", \"occupational\", \"skills,\", \"approach\", \"individuals\", \"nurses\", \"provides\", \"of\", \"with\", \"are\", \"benefits\", \"communication\", \"at\", \"were\", \"personal\", \"adapt\", \"changing\", \"evaluate\", \"competencies\", \"important\", \"cultural\", \"for\", \"professional\", \"involves\", \"experiences\", \"quality\", \"competencies,\", \"social\", \"skills,\", \"occupational\", \"approach\", \"provides\", \"communication\", \"benefits\", \"adapt\", \"cultural\", \"important\", \"evaluate\", \"changing\", \"competencies\", \"knowledge,\", \"supports\", \"general\", \"rapidly\", \"need\", \"technology,\", \"union\", \"six\", \"learn\", \"include\", \"helps\", \"obtained\", \"technological\", \"competencies.\", \"academic\", \"economic\", \"lifelong\", \"with\", \"individuals\", \"personal\", \"learning\", \"and\", \"skills\", \"in\", \"to\", \"it\", \"the\", \"a\", \"educational\", \"of\", \"is\", \"discusses\", \"article\", \"for\", \"their\", \"concept\", \"its\", \"an\", \"opportunities\", \"lll\", \"society\", \"also\", \"that\", \"on\", \"throughout\", \"as\", \"from\", \"cpd\", \"nurses\", \"were\", \"at\", \"quality\", \"experiences\", \"articles\", \"continuing\", \"healthcare\", \"towards\", \"non-formal\", \"learners\", \"learning.\", \"themes\", \"(cpd)\", \"findings\", \"initiatives\", \"systematic\", \"explore\", \"authors\", \"nurse\", \"requirements\", \"cpd.\", \"cpd,\", \"constant\", \"national\", \"understand\", \"faced\", \"related\", \"defining\", \"education,\", \"the\", \"are\", \"professional\", \"of\", \"involves\", \"and\", \"to\", \"for\", \"that\", \"continuous\", \"is\", \"life\", \"in\", \"article\", \"learning\", \"a\", \"requires\", \"lll\", \"their\", \"on\", \"as\", \"learning,\", \"informal\", \"development\", \"various\", \"it\", \"throughout\", \"lifelong\", \"importance\", \"which\", \"levels\", \"designated\", \"states\", \"context\", \"however,\", \"societies.\", \"constructors,\", \"programs,\", \"implementing\", \"employment,\", \"themselves.\", \"relevant\", \"referred\", \"qualifications.\", \"planned\", \"communicators\", \"applicable\", \"across\", \"leisure,\", \"aspects\", \"bringing\", \"work,\", \"researchers,\", \"participation\", \"possible.\", \"receivers\", \"embrace\", \"childhood\", \"attempts\", \"family,\", \"aiming\", \"and\", \"the\", \"to\", \"of\", \"learning\", \"in\", \"for\", \"lifelong\", \"a\", \"is\", \"their\", \"article\", \"it\", \"lll\", \"individuals\", \"on\", \"that\", \"skills\", \"are\", \"throughout\", \"which\", \"opportunities\", \"development\", \"(lll)\", \"but\", \"discusses\", \"also\", \"an\", \"educational\", \"with\", \"competencies,\", \"importance\"], \"Freq\": [13.0, 6.0, 33.0, 7.0, 100.0, 6.0, 6.0, 6.0, 15.0, 5.0, 5.0, 63.0, 9.0, 14.0, 4.0, 4.0, 4.0, 4.0, 8.0, 3.0, 3.0, 3.0, 3.0, 3.0, 3.0, 29.0, 6.0, 6.0, 3.0, 3.0, 13.005100483846645, 7.069203369057939, 6.221913550270116, 6.213799578146872, 6.217249278472692, 5.367942867146505, 4.525924605891909, 4.520473459109022, 3.67630337244734, 3.677790573382285, 3.6770112714374705, 3.675889379558563, 3.674705821491519, 3.6740559824796932, 2.8307109966276998, 2.830300249327772, 2.828786182129575, 2.829500932918387, 2.8279857838572395, 2.8278144888901933, 2.8282115325927575, 2.8279828988893736, 2.8286433762202057, 2.828555024079308, 2.8262932092723307, 2.8277387584837097, 2.8263563179444007, 2.826566920598622, 2.8271267846751256, 2.825948816233322, 29.154383196499595, 8.775935933769288, 13.884875762048072, 7.08234079147793, 49.569771751512604, 98.88154659670077, 13.041365972406732, 32.57617722815156, 43.6164559219907, 14.731142138485417, 61.40305021759442, 22.377365766704596, 7.082996400425488, 38.5481299500881, 19.85248949231408, 7.92161761201782, 14.7122657937379, 17.259245249434098, 11.350351433871548, 6.233759228328086, 6.229152655887983, 6.2259193281521155, 7.935774870578456, 10.495898239872341, 7.089520034012576, 7.067166581744513, 10.501554219373718, 8.76665499214423, 7.932139089825276, 7.084521827184657, 6.237892666038158, 6.435220790894325, 4.889668126907426, 4.1190372478231, 4.098639034717315, 3.338278518170182, 3.334866004303859, 2.574740200650468, 2.5737512539592657, 2.5729046033094396, 2.568972136684947, 2.5661158513506184, 2.5630829375461146, 2.5628346212371884, 1.802058120890798, 1.8023153981795683, 1.8018125036721861, 1.801265236120035, 1.8017002215151063, 1.80130399505695, 1.801193332354059, 1.8005095987956108, 1.8010100101399038, 1.8007065244249507, 1.799252470490768, 1.798356264542769, 1.7990957073253067, 1.7990810242739963, 1.798688900433118, 1.7985834199836304, 1.7979695388825194, 1.7982898669210345, 39.0043926200728, 7.980064781728271, 4.1239504559042395, 24.97840958320482, 4.1102943544766415, 43.54422625314803, 21.915884382752317, 11.85795795933572, 7.971539111170316, 3.342220917447032, 10.291887890414749, 3.338480194198475, 13.398832775916897, 8.006107332499566, 14.975192208970874, 9.54321896940077, 2.5661890506799456, 6.425344711470262, 6.419123848113594, 5.679983795545632, 4.897276106758479, 4.128060414707808, 4.126583040633309, 4.1194190071571715, 3.3469672137831274, 4.898226186549154, 4.121980767756391, 4.156006579896055, 3.3599697035001865, 3.34875142044457, 0.0033511280728524624, 0.0033504197785095774, 0.0033495306566529016, 0.003349601901415402, 0.003349440881862486, 0.0033493376887759945, 0.0033488904122401177, 0.0033488249181759357, 0.003348648563427504, 0.003348106719852613, 0.00334778947299538, 0.0033476329262078232, 0.0033476025753000314, 0.0033474754209705465, 0.00334691664478394, 0.003347210888847899, 0.003347076386403896, 0.0033471795794903876, 0.003346889488708547, 0.0033467176067254745, 0.0033468636105661144, 0.0033468824600772695, 0.0033467029104964387, 0.0033467204820746338, 0.0033466051486250254, 0.0033466124967395433, 0.003346247007913084, 0.003345886311335223, 0.003345831999184438, 0.0033455789684584277, 0.0033456882317264773, 0.005973125744878972, 0.004725358712225901, 0.004507804683108245, 0.004421541332982791, 0.004345438508336264, 0.0042563068376828776, 0.004022592387840742, 0.0039368188055220734, 0.0038567278715917227, 0.003822702906541073, 0.003722392197839918, 0.003730097814103361, 0.003691135555063108, 0.0036746074091294897, 0.003631837548835963, 0.0036155324022038035, 0.003617270391028926, 0.003604766136502002, 0.0035771362674646753, 0.0035579375611286307, 0.003533429362828486, 0.0035394442737863127, 0.0035156092266726627, 0.0034875905465323624, 0.003481201201217358, 0.003515237667664645, 0.003506434306988864, 0.0034922505290697218, 0.0034979779051116278, 0.0035047039857614994, 0.003523541676036443, 0.0034923042022540272], \"Total\": [13.0, 6.0, 33.0, 7.0, 100.0, 6.0, 6.0, 6.0, 15.0, 5.0, 5.0, 63.0, 9.0, 14.0, 4.0, 4.0, 4.0, 4.0, 8.0, 3.0, 3.0, 3.0, 3.0, 3.0, 3.0, 29.0, 6.0, 6.0, 3.0, 3.0, 13.29990356337411, 7.345995931995218, 6.497962843082615, 6.493632867640821, 6.497850368585186, 5.646195848357467, 4.7976092713982315, 4.794437019898386, 3.9452624077605822, 3.9471962355440198, 3.946577893928703, 3.9457482063551934, 3.9452092525562743, 3.9456493528108223, 3.0966107345004033, 3.09627778597795, 3.095708020451893, 3.0966289437211847, 3.095254928382673, 3.0950778603418088, 3.0957479546534814, 3.0954981988522183, 3.0962639422080422, 3.0963017984523233, 3.0943344400108606, 3.0962354263630996, 3.0947282989813494, 3.0949750948808683, 3.0958461005901747, 3.095268357883952, 33.31432659520117, 9.818947768363147, 15.69264920228321, 8.120736685238889, 64.54930939899181, 142.43174597559369, 16.390666572824657, 45.979266310906134, 65.53684810942613, 19.63305946058963, 100.41216819637944, 31.92444146397696, 8.890490985885211, 63.5309610746259, 30.14820008563537, 10.513096217677118, 22.72210322405157, 29.121225801157657, 17.773197674182985, 8.044155827423962, 8.04056975387796, 8.038752924876405, 11.285986787973036, 16.924917558751734, 9.665521267166547, 9.661835345883782, 18.476710600935064, 14.450254320092068, 12.057677795142796, 11.985284354861527, 8.81766034831905, 6.728086310374363, 5.182003383269975, 4.409852812030476, 4.406703021552821, 3.6349596119602468, 3.6338176522848538, 2.863894819356179, 2.863718578911665, 2.8631300366956016, 2.863203142512489, 2.8622261536026983, 2.8617274295340396, 2.862041363940325, 2.0902843006549743, 2.0906698203642637, 2.0901636019554637, 2.089892419442485, 2.0904055569540327, 2.0900104689767485, 2.0899518380812725, 2.089396483468495, 2.090298699125724, 2.0900594906585916, 2.089599187562583, 2.0887519260021183, 2.0896444994624366, 2.089847521365167, 2.0895206810528566, 2.0896165177934667, 2.0893465794976787, 2.089737899869663, 100.41216819637944, 14.22081839076115, 6.106964369301025, 63.5309610746259, 6.108104232805752, 142.43174597559369, 65.53684810942613, 29.121225801157657, 18.476710600935064, 5.33530183940342, 30.14820008563537, 5.333831111646927, 45.979266310906134, 22.72210322405157, 64.54930939899181, 31.92444146397696, 3.7112734342834526, 16.924917558751734, 17.773197674182985, 14.450254320092068, 11.985284354861527, 8.65822046553857, 8.656253551017517, 8.65477448826409, 6.183714640485274, 19.63305946058963, 12.057677795142796, 33.31432659520117, 9.58525294683825, 9.582916051726729, 1.3166415130728193, 1.3166454523824627, 1.3167386860215586, 1.3168308601838705, 1.316805420629011, 1.316780200609704, 1.3167174586764199, 1.3168468027438367, 1.3168548140484975, 1.316869735278702, 1.3169127310652655, 1.316880844838503, 1.3169300487658393, 1.3169301327335876, 1.3168659029620176, 1.316983854722861, 1.3169425247371978, 1.3170198729534877, 1.316985136731814, 1.3169409756238266, 1.3170047648217633, 1.3170367584168303, 1.3169777233745217, 1.31700320693881, 1.3169633948364927, 1.3170194785985503, 1.3170860856346758, 1.317025667536018, 1.3170283487550798, 1.3169844665159378, 1.3170639185975554, 142.43174597559369, 100.41216819637944, 65.53684810942613, 63.5309610746259, 64.54930939899181, 45.979266310906134, 29.121225801157657, 33.31432659520117, 31.92444146397696, 30.14820008563537, 17.773197674182985, 22.72210322405157, 19.63305946058963, 16.924917558751734, 15.69264920228321, 14.450254320092068, 18.476710600935064, 16.390666572824657, 14.22081839076115, 12.057677795142796, 9.582916051726729, 11.285986787973036, 8.65477448826409, 6.2586827928238655, 6.259494681103915, 10.513096217677118, 9.661835345883782, 8.038752924876405, 8.890490985885211, 9.818947768363147, 13.29990356337411, 9.58525294683825], \"Category\": [\"Default\", \"Default\", \"Default\", \"Default\", \"Default\", \"Default\", \"Default\", \"Default\", \"Default\", \"Default\", \"Default\", \"Default\", \"Default\", \"Default\", \"Default\", \"Default\", \"Default\", \"Default\", \"Default\", \"Default\", \"Default\", \"Default\", \"Default\", \"Default\", \"Default\", \"Default\", \"Default\", \"Default\", \"Default\", \"Default\", \"Topic1\", \"Topic1\", \"Topic1\", \"Topic1\", \"Topic1\", \"Topic1\", \"Topic1\", \"Topic1\", \"Topic1\", \"Topic1\", \"Topic1\", \"Topic1\", \"Topic1\", \"Topic1\", \"Topic1\", \"Topic1\", \"Topic1\", \"Topic1\", \"Topic1\", \"Topic1\", \"Topic1\", \"Topic1\", \"Topic1\", \"Topic1\", \"Topic1\", \"Topic1\", \"Topic1\", \"Topic1\", \"Topic1\", \"Topic1\", \"Topic1\", \"Topic1\", \"Topic1\", \"Topic1\", \"Topic1\", \"Topic1\", \"Topic1\", \"Topic1\", \"Topic1\", \"Topic1\", \"Topic1\", \"Topic1\", \"Topic1\", \"Topic1\", \"Topic1\", \"Topic1\", \"Topic1\", \"Topic1\", \"Topic1\", \"Topic1\", \"Topic1\", \"Topic1\", \"Topic1\", \"Topic1\", \"Topic1\", \"Topic1\", \"Topic1\", \"Topic1\", \"Topic1\", \"Topic1\", \"Topic1\", \"Topic2\", \"Topic2\", \"Topic2\", \"Topic2\", \"Topic2\", \"Topic2\", \"Topic2\", \"Topic2\", \"Topic2\", \"Topic2\", \"Topic2\", \"Topic2\", \"Topic2\", \"Topic2\", \"Topic2\", \"Topic2\", \"Topic2\", \"Topic2\", \"Topic2\", \"Topic2\", \"Topic2\", \"Topic2\", \"Topic2\", \"Topic2\", \"Topic2\", \"Topic2\", \"Topic2\", \"Topic2\", \"Topic2\", \"Topic2\", \"Topic2\", \"Topic2\", \"Topic2\", \"Topic2\", \"Topic2\", \"Topic2\", \"Topic2\", \"Topic2\", \"Topic2\", \"Topic2\", \"Topic2\", \"Topic2\", \"Topic2\", \"Topic2\", \"Topic2\", \"Topic2\", \"Topic2\", \"Topic2\", \"Topic2\", \"Topic2\", \"Topic2\", \"Topic2\", \"Topic2\", \"Topic2\", \"Topic2\", \"Topic2\", \"Topic2\", \"Topic2\", \"Topic2\", \"Topic2\", \"Topic2\", \"Topic3\", \"Topic3\", \"Topic3\", \"Topic3\", \"Topic3\", \"Topic3\", \"Topic3\", \"Topic3\", \"Topic3\", \"Topic3\", \"Topic3\", \"Topic3\", \"Topic3\", \"Topic3\", \"Topic3\", \"Topic3\", \"Topic3\", \"Topic3\", \"Topic3\", \"Topic3\", \"Topic3\", \"Topic3\", \"Topic3\", \"Topic3\", \"Topic3\", \"Topic3\", \"Topic3\", \"Topic3\", \"Topic3\", \"Topic3\", \"Topic3\", \"Topic3\", \"Topic3\", \"Topic3\", \"Topic3\", \"Topic3\", \"Topic3\", \"Topic3\", \"Topic3\", \"Topic3\", \"Topic3\", \"Topic3\", \"Topic3\", \"Topic3\", \"Topic3\", \"Topic3\", \"Topic3\", \"Topic3\", \"Topic3\", \"Topic3\", \"Topic3\", \"Topic3\", \"Topic3\", \"Topic3\", \"Topic3\", \"Topic3\", \"Topic3\", \"Topic3\", \"Topic3\", \"Topic3\", \"Topic3\", \"Topic3\", \"Topic3\"], \"logprob\": [30.0, 29.0, 28.0, 27.0, 26.0, 25.0, 24.0, 23.0, 22.0, 21.0, 20.0, 19.0, 18.0, 17.0, 16.0, 15.0, 14.0, 13.0, 12.0, 11.0, 10.0, 9.0, 8.0, 7.0, 6.0, 5.0, 4.0, 3.0, 2.0, 1.0, -4.7799, -5.3895, -5.5172, -5.5185, -5.5179, -5.6648, -5.8354, -5.8367, -6.0434, -6.043, -6.0432, -6.0435, -6.0438, -6.044, -6.3047, -6.3049, -6.3054, -6.3052, -6.3057, -6.3058, -6.3056, -6.3057, -6.3055, -6.3055, -6.3063, -6.3058, -6.3063, -6.3062, -6.306, -6.3064, -3.9727, -5.1733, -4.7145, -5.3877, -3.4419, -2.7513, -4.7771, -3.8617, -3.5698, -4.6553, -3.2278, -4.2372, -5.3876, -3.6934, -4.3569, -5.2757, -4.6566, -4.4969, -4.916, -5.5153, -5.516, -5.5166, -5.2739, -4.9943, -5.3867, -5.3898, -4.9937, -5.1743, -5.2743, -5.3874, -5.5146, -4.9706, -5.2453, -5.4168, -5.4217, -5.6269, -5.628, -5.8866, -5.887, -5.8873, -5.8889, -5.89, -5.8912, -5.8913, -6.2435, -6.2433, -6.2436, -6.2439, -6.2437, -6.2439, -6.2439, -6.2443, -6.244, -6.2442, -6.245, -6.2455, -6.2451, -6.2451, -6.2453, -6.2454, -6.2457, -6.2455, -3.1687, -4.7554, -5.4156, -3.6144, -5.4189, -3.0586, -3.7452, -4.3594, -4.7565, -5.6257, -4.501, -5.6269, -4.2372, -4.7522, -4.126, -4.5766, -5.89, -4.9721, -4.9731, -5.0954, -5.2437, -5.4146, -5.4149, -5.4167, -5.6243, -5.2435, -5.4161, -5.4078, -5.6205, -5.6238, -6.708, -6.7082, -6.7085, -6.7085, -6.7085, -6.7085, -6.7087, -6.7087, -6.7087, -6.7089, -6.709, -6.709, -6.7091, -6.7091, -6.7093, -6.7092, -6.7092, -6.7092, -6.7093, -6.7093, -6.7093, -6.7093, -6.7093, -6.7093, -6.7093, -6.7093, -6.7095, -6.7096, -6.7096, -6.7097, -6.7096, -6.13, -6.3644, -6.4115, -6.4308, -6.4482, -6.4689, -6.5254, -6.5469, -6.5675, -6.5763, -6.6029, -6.6009, -6.6114, -6.6158, -6.6276, -6.6321, -6.6316, -6.635, -6.6427, -6.6481, -6.655, -6.6533, -6.6601, -6.6681, -6.6699, -6.6602, -6.6627, -6.6667, -6.6651, -6.6632, -6.6578, -6.6667], \"loglift\": [30.0, 29.0, 28.0, 27.0, 26.0, 25.0, 24.0, 23.0, 22.0, 21.0, 20.0, 19.0, 18.0, 17.0, 16.0, 15.0, 14.0, 13.0, 12.0, 11.0, 10.0, 9.0, 8.0, 7.0, 6.0, 5.0, 4.0, 3.0, 2.0, 1.0, 0.4479, 0.4319, 0.4269, 0.4263, 0.4262, 0.4198, 0.412, 0.4115, 0.3997, 0.3996, 0.3996, 0.3995, 0.3993, 0.399, 0.3806, 0.3805, 0.3802, 0.3801, 0.38, 0.38, 0.38, 0.38, 0.3799, 0.3799, 0.3797, 0.3796, 0.3796, 0.3796, 0.3795, 0.3793, 0.337, 0.358, 0.3479, 0.3335, 0.2063, 0.1054, 0.2418, 0.1257, 0.0632, 0.1831, -0.0215, 0.115, 0.2431, -0.0293, 0.0525, 0.1873, 0.0357, -0.0528, 0.0219, 0.2154, 0.2151, 0.2148, 0.1182, -0.0075, 0.1604, 0.1576, -0.0946, -0.0294, 0.0516, -0.0554, 0.1242, 0.9387, 0.9252, 0.915, 0.9108, 0.8981, 0.8974, 0.8768, 0.8765, 0.8763, 0.8748, 0.874, 0.873, 0.8728, 0.8349, 0.8348, 0.8348, 0.8346, 0.8346, 0.8346, 0.8345, 0.8344, 0.8343, 0.8342, 0.8336, 0.8335, 0.8335, 0.8334, 0.8333, 0.8332, 0.833, 0.833, 0.0376, 0.4055, 0.5906, 0.0497, 0.5871, -0.2019, -0.1122, 0.0848, 0.1426, 0.5155, -0.0915, 0.5147, -0.2498, -0.0599, -0.4778, -0.2243, 0.6143, 0.0147, -0.0352, 0.0495, 0.0882, 0.2425, 0.2424, 0.2408, 0.3694, -0.4051, -0.0901, -1.0982, -0.0651, -0.0682, 0.8325, 0.8323, 0.832, 0.8319, 0.8319, 0.8319, 0.8318, 0.8317, 0.8316, 0.8315, 0.8313, 0.8313, 0.8313, 0.8312, 0.8311, 0.8311, 0.8311, 0.8311, 0.831, 0.831, 0.831, 0.831, 0.831, 0.8309, 0.8309, 0.8309, 0.8307, 0.8307, 0.8307, 0.8306, 0.8306, -3.2733, -3.158, -2.7785, -2.7667, -2.8, -2.4815, -2.0812, -2.2373, -2.2152, -2.1669, -1.665, -1.9086, -1.773, -1.629, -1.5651, -1.4872, -1.7325, -1.6161, -1.4818, -1.3222, -1.0994, -1.2613, -1.0026, -0.6864, -0.6884, -1.1972, -1.1153, -0.9354, -1.0345, -1.1319, -1.43, -1.1113]}, \"token.table\": {\"Topic\": [2, 1, 2, 1, 2, 1, 2, 1, 2, 1, 2, 1, 2, 1, 2, 2, 1, 1, 2, 1, 2, 2, 1, 2, 2, 2, 2, 2, 1, 2, 1, 2, 1, 2, 1, 2, 1, 1, 1, 1, 2, 2, 2, 2, 2, 1, 2, 2, 2, 2, 1, 2, 2, 1, 2, 1, 2, 1, 2, 1, 2, 2, 2, 1, 2, 2, 2, 2, 2, 1, 2, 1, 2, 1, 2, 1, 2, 2, 1, 2, 1, 1, 2, 1, 1, 2, 1, 2, 2, 1, 2, 1, 2, 1, 2, 1, 2, 1, 1, 2, 1, 2, 1, 2, 2, 2, 2, 1, 2, 1, 2, 1, 2, 2, 1, 2, 2, 2, 1, 1, 1, 2, 1, 2, 1, 2, 2, 1, 2, 2, 2, 1, 2, 2, 1, 2, 2, 1, 2, 2, 2, 2, 2, 1, 2, 2, 1, 1, 2, 1, 1, 2, 1, 2, 2, 1, 2, 1, 1, 1, 2, 1, 2, 1, 2, 2, 2, 1, 2, 1, 2, 2, 2, 1, 1, 2, 2, 1, 2, 1, 2, 2], \"Freq\": [0.9566312100164788, 0.6391121155055748, 0.47933408662918114, 0.689127170003098, 0.3132396227286809, 0.9690404182004063, 0.7592899853192393, 1.0138742589420022, 0.759264592917272, 0.7245000302123965, 0.3105000129481699, 0.7463844275438095, 0.24879480918126984, 0.6950697635691702, 0.3089198949196312, 0.7593345808311224, 0.9233822971682886, 0.4219166460840274, 0.5625555281120366, 0.6601501565278672, 0.3520800834815292, 1.0475245039461394, 0.5840495555001686, 0.41717825392869184, 0.7593354740339113, 0.9077080938825081, 0.7592850988706882, 0.9569598512069758, 1.042875311376177, 0.7592986955786261, 0.6390292194152909, 0.47927191456146817, 1.0138879192296897, 0.7592866446337896, 1.0421857465151143, 0.7593107511636388, 1.013774829522157, 0.9774506963945213, 0.9693131311337664, 0.7458831142411401, 0.2486277047470467, 0.9575095898669068, 0.7594643736289576, 0.7593989708445692, 1.0475889712389714, 0.37486164048473686, 0.5622924607271053, 0.8917840412879824, 0.9571213522210945, 0.9569105611294283, 1.0133775371947533, 0.9572370709702173, 0.759505908132296, 0.5777158037774434, 0.4621726430219547, 0.7609556532497531, 0.28535836996865743, 0.9692212929966818, 0.9570578205643587, 0.787358089796547, 0.22495945422758487, 0.7592518142184467, 0.7593765527524712, 1.0137494312377628, 0.8255780248394343, 0.9569330056892889, 0.9571573127442082, 0.7593103984327808, 0.9568628973009048, 0.5837666352397912, 0.41207056605161735, 0.6804526102146593, 0.34022630510732965, 0.9690836410218292, 1.0478043126055019, 0.9695138189359618, 0.7594136417834007, 0.759385157218381, 0.6259615717266109, 0.31298078586330547, 1.0135363110793987, 0.717714801642507, 0.28273613398038155, 0.9688977997879731, 0.8921374472554362, 0.1274482067507766, 0.577617091566393, 0.4620936732531144, 0.9569870589480077, 0.3274338360596872, 0.6548676721193744, 0.6633895205415379, 0.33169476027076894, 0.7640174487379416, 0.2546724829126472, 0.7462157762024519, 0.24873859206748397, 0.9688011368610107, 0.9689096459459482, 1.0483178687945394, 0.7746016257267804, 0.2323804877180341, 0.577485872518607, 0.46198869801488557, 1.0482028798737346, 0.7593100120184851, 0.7595081805268077, 0.37496500322869425, 0.5624475048430414, 0.8704963588901528, 0.12006846329519348, 0.5908448277686932, 0.35450689666121593, 0.957100597979466, 0.969225498194281, 1.048135206305723, 0.9572142079419543, 0.9648777953604643, 0.9689185694525368, 0.9239820178161441, 0.6138739181702147, 0.39350892190398384, 0.6228264084934567, 0.4152176056623045, 0.7088436439182472, 0.26581636646934265, 0.7592995937529722, 0.8619907615923493, 0.12314153737033562, 0.759378762674853, 0.7593225475520181, 0.3274949515104033, 0.6549899030208066, 0.7593897770920341, 0.8855519954120169, 0.7593417259913955, 0.8253186610736981, 0.968795439984144, 0.7592902126733213, 0.7593417744071902, 0.9571134143368577, 0.7593701464483189, 0.9568010547184036, 0.26944929219236397, 0.8083478765770918, 0.7593142862262525, 0.9691493282446011, 0.7931343086164474, 0.18303099429610326, 0.9233663141652588, 0.9529000648518949, 0.7594281866760858, 0.7242237440187284, 0.310381604579455, 0.7594521301879842, 0.9689053138533108, 0.9567521447437385, 0.969390431136546, 0.9692809471580438, 0.5953440651629471, 0.43297750193668877, 0.6074960943050274, 0.3883991422605913, 0.6189094501536093, 0.33758697281105965, 0.956807645435272, 0.7593517599234452, 0.663477672560022, 0.331738836280011, 0.6713780303644402, 0.3356890151822201, 1.0477775591456884, 0.9570076187632699, 0.9690711401393145, 0.48514528473852275, 0.48514528473852275, 0.90705975244517, 0.6261142190553648, 0.3130571095276824, 0.9165951599211258, 0.10184390665790287, 0.7592802506150773], \"Term\": [\"(cpd)\", \"(lll)\", \"(lll)\", \"a\", \"a\", \"academic\", \"across\", \"adapt\", \"aiming\", \"also\", \"also\", \"an\", \"an\", \"and\", \"and\", \"applicable\", \"approach\", \"are\", \"are\", \"article\", \"article\", \"articles\", \"as\", \"as\", \"aspects\", \"at\", \"attempts\", \"authors\", \"benefits\", \"bringing\", \"but\", \"but\", \"changing\", \"childhood\", \"communication\", \"communicators\", \"competencies\", \"competencies,\", \"competencies.\", \"concept\", \"concept\", \"constant\", \"constructors,\", \"context\", \"continuing\", \"continuous\", \"continuous\", \"cpd\", \"cpd,\", \"cpd.\", \"cultural\", \"defining\", \"designated\", \"development\", \"development\", \"discusses\", \"discusses\", \"economic\", \"education,\", \"educational\", \"educational\", \"embrace\", \"employment,\", \"evaluate\", \"experiences\", \"explore\", \"faced\", \"family,\", \"findings\", \"for\", \"for\", \"from\", \"from\", \"general\", \"healthcare\", \"helps\", \"however,\", \"implementing\", \"importance\", \"importance\", \"important\", \"in\", \"in\", \"include\", \"individuals\", \"individuals\", \"informal\", \"informal\", \"initiatives\", \"involves\", \"involves\", \"is\", \"is\", \"it\", \"it\", \"its\", \"its\", \"knowledge,\", \"learn\", \"learners\", \"learning\", \"learning\", \"learning,\", \"learning,\", \"learning.\", \"leisure,\", \"levels\", \"life\", \"life\", \"lifelong\", \"lifelong\", \"lll\", \"lll\", \"national\", \"need\", \"non-formal\", \"nurse\", \"nurses\", \"obtained\", \"occupational\", \"of\", \"of\", \"on\", \"on\", \"opportunities\", \"opportunities\", \"participation\", \"personal\", \"personal\", \"planned\", \"possible.\", \"professional\", \"professional\", \"programs,\", \"provides\", \"qualifications.\", \"quality\", \"rapidly\", \"receivers\", \"referred\", \"related\", \"relevant\", \"requirements\", \"requires\", \"requires\", \"researchers,\", \"six\", \"skills\", \"skills\", \"skills,\", \"social\", \"societies.\", \"society\", \"society\", \"states\", \"supports\", \"systematic\", \"technological\", \"technology,\", \"that\", \"that\", \"the\", \"the\", \"their\", \"their\", \"themes\", \"themselves.\", \"throughout\", \"throughout\", \"to\", \"to\", \"towards\", \"understand\", \"union\", \"various\", \"various\", \"were\", \"which\", \"which\", \"with\", \"with\", \"work,\"]}, \"R\": 30, \"lambda.step\": 0.01, \"plot.opts\": {\"xlab\": \"PC1\", \"ylab\": \"PC2\"}, \"topic.order\": [1, 2, 3]};\n",
       "\n",
       "function LDAvis_load_lib(url, callback){\n",
       "  var s = document.createElement('script');\n",
       "  s.src = url;\n",
       "  s.async = true;\n",
       "  s.onreadystatechange = s.onload = callback;\n",
       "  s.onerror = function(){console.warn(\"failed to load library \" + url);};\n",
       "  document.getElementsByTagName(\"head\")[0].appendChild(s);\n",
       "}\n",
       "\n",
       "if(typeof(LDAvis) !== \"undefined\"){\n",
       "   // already loaded: just create the visualization\n",
       "   !function(LDAvis){\n",
       "       new LDAvis(\"#\" + \"ldavis_el246801595968297664166807409\", ldavis_el246801595968297664166807409_data);\n",
       "   }(LDAvis);\n",
       "}else if(typeof define === \"function\" && define.amd){\n",
       "   // require.js is available: use it to load d3/LDAvis\n",
       "   require.config({paths: {d3: \"https://d3js.org/d3.v5\"}});\n",
       "   require([\"d3\"], function(d3){\n",
       "      window.d3 = d3;\n",
       "      LDAvis_load_lib(\"https://cdn.jsdelivr.net/gh/bmabey/pyLDAvis@3.4.0/pyLDAvis/js/ldavis.v3.0.0.js\", function(){\n",
       "        new LDAvis(\"#\" + \"ldavis_el246801595968297664166807409\", ldavis_el246801595968297664166807409_data);\n",
       "      });\n",
       "    });\n",
       "}else{\n",
       "    // require.js not available: dynamically load d3 & LDAvis\n",
       "    LDAvis_load_lib(\"https://d3js.org/d3.v5.js\", function(){\n",
       "         LDAvis_load_lib(\"https://cdn.jsdelivr.net/gh/bmabey/pyLDAvis@3.4.0/pyLDAvis/js/ldavis.v3.0.0.js\", function(){\n",
       "                 new LDAvis(\"#\" + \"ldavis_el246801595968297664166807409\", ldavis_el246801595968297664166807409_data);\n",
       "            })\n",
       "         });\n",
       "}\n",
       "</script>"
      ],
      "text/plain": [
       "<IPython.core.display.HTML object>"
      ]
     },
     "execution_count": 26,
     "metadata": {},
     "output_type": "execute_result"
    }
   ],
   "source": [
    "# 輸出主題模型分析結果\n",
    "\n",
    "import pyLDAvis.gensim\n",
    "pyLDAvis.enable_notebook()\n",
    "vis = pyLDAvis.gensim.prepare(lda_model, corpus, dictionary)\n",
    "pyLDAvis.display(vis)"
   ]
  }
 ],
 "metadata": {
  "kernelspec": {
   "display_name": "Python 3 (ipykernel)",
   "language": "python",
   "name": "python3"
  },
  "language_info": {
   "codemirror_mode": {
    "name": "ipython",
    "version": 3
   },
   "file_extension": ".py",
   "mimetype": "text/x-python",
   "name": "python",
   "nbconvert_exporter": "python",
   "pygments_lexer": "ipython3",
   "version": "3.9.13"
  }
 },
 "nbformat": 4,
 "nbformat_minor": 5
}
